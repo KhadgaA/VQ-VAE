{
  "cells": [
    {
      "cell_type": "code",
      "execution_count": 2,
      "metadata": {
        "colab": {
          "base_uri": "https://localhost:8080/"
        },
        "id": "RDvd3A9wdA4D",
        "outputId": "a52439fa-55f4-484a-814c-db4d9c3d3aa1"
      },
      "outputs": [],
      "source": [
        "\n",
        "# # IMPORTANT: RUN THIS CELL IN ORDER TO IMPORT YOUR KAGGLE DATA SOURCES\n",
        "# # TO THE CORRECT LOCATION (/kaggle/input) IN YOUR NOTEBOOK,\n",
        "# # THEN FEEL FREE TO DELETE THIS CELL.\n",
        "# # NOTE: THIS NOTEBOOK ENVIRONMENT DIFFERS FROM KAGGLE'S PYTHON\n",
        "# # ENVIRONMENT SO THERE MAY BE MISSING LIBRARIES USED BY YOUR\n",
        "# # NOTEBOOK.\n",
        "\n",
        "# import os\n",
        "# import sys\n",
        "# from tempfile import NamedTemporaryFile\n",
        "# from urllib.request import urlopen\n",
        "# from urllib.parse import unquote, urlparse\n",
        "# from urllib.error import HTTPError\n",
        "# from zipfile import ZipFile\n",
        "# import tarfile\n",
        "# import shutil\n",
        "\n",
        "# CHUNK_SIZE = 40960\n",
        "# DATA_SOURCE_MAPPING = 'dl-a5-data:https%3A%2F%2Fstorage.googleapis.com%2Fkaggle-data-sets%2F4891196%2F8244595%2Fbundle%2Farchive.zip%3FX-Goog-Algorithm%3DGOOG4-RSA-SHA256%26X-Goog-Credential%3Dgcp-kaggle-com%2540kaggle-161607.iam.gserviceaccount.com%252F20240427%252Fauto%252Fstorage%252Fgoog4_request%26X-Goog-Date%3D20240427T120724Z%26X-Goog-Expires%3D259200%26X-Goog-SignedHeaders%3Dhost%26X-Goog-Signature%3D6a3816b3d48e7d5edb3cf8a77807c18c838bb7afa3db50b70f97ea92f0fd9b523ae8df6de239e46d9087a1af4bcc53fbd76bcafe13e817d8b145be08050d95071928add94265be1c21b2b419367d1d7fa6e3fed379af9eb8a49f189180654bb815a8b20d2b07c96e56ef02ec418e1b3bb40a24dd8fcfa76fcd5208946a96baeb349182b1ba4e4e48a768547d71725753a52e35c5211a17d1b185c5a3f46cf5d04a46a1e61b5a43866520cf4a5aab5db0cfc671dfc5220f798e2d2544f458e48a585c9a4790e32c75172d7f742307ce34ed0242faca29f08ca11333a5006488fad0afa720127eb0ca6f90bfff36f908ae0bcb409c83a91ccac8e1490d1f83bb11'\n",
        "\n",
        "# KAGGLE_INPUT_PATH='/kaggle/input'\n",
        "# KAGGLE_WORKING_PATH='/kaggle/working'\n",
        "# KAGGLE_SYMLINK='kaggle'\n",
        "\n",
        "# !umount /kaggle/input/ 2> /dev/null\n",
        "# shutil.rmtree('/kaggle/input', ignore_errors=True)\n",
        "# os.makedirs(KAGGLE_INPUT_PATH, 0o777, exist_ok=True)\n",
        "# os.makedirs(KAGGLE_WORKING_PATH, 0o777, exist_ok=True)\n",
        "\n",
        "# try:\n",
        "#   os.symlink(KAGGLE_INPUT_PATH, os.path.join(\"..\", 'input'), target_is_directory=True)\n",
        "# except FileExistsError:\n",
        "#   pass\n",
        "# try:\n",
        "#   os.symlink(KAGGLE_WORKING_PATH, os.path.join(\"..\", 'working'), target_is_directory=True)\n",
        "# except FileExistsError:\n",
        "#   pass\n",
        "\n",
        "# for data_source_mapping in DATA_SOURCE_MAPPING.split(','):\n",
        "#     directory, download_url_encoded = data_source_mapping.split(':')\n",
        "#     download_url = unquote(download_url_encoded)\n",
        "#     filename = urlparse(download_url).path\n",
        "#     destination_path = os.path.join(KAGGLE_INPUT_PATH, directory)\n",
        "#     try:\n",
        "#         with urlopen(download_url) as fileres, NamedTemporaryFile() as tfile:\n",
        "#             total_length = fileres.headers['content-length']\n",
        "#             print(f'Downloading {directory}, {total_length} bytes compressed')\n",
        "#             dl = 0\n",
        "#             data = fileres.read(CHUNK_SIZE)\n",
        "#             while len(data) > 0:\n",
        "#                 dl += len(data)\n",
        "#                 tfile.write(data)\n",
        "#                 done = int(50 * dl / int(total_length))\n",
        "#                 sys.stdout.write(f\"\\r[{'=' * done}{' ' * (50-done)}] {dl} bytes downloaded\")\n",
        "#                 sys.stdout.flush()\n",
        "#                 data = fileres.read(CHUNK_SIZE)\n",
        "#             if filename.endswith('.zip'):\n",
        "#               with ZipFile(tfile) as zfile:\n",
        "#                 zfile.extractall(destination_path)\n",
        "#             else:\n",
        "#               with tarfile.open(tfile.name) as tarfile:\n",
        "#                 tarfile.extractall(destination_path)\n",
        "#             print(f'\\nDownloaded and uncompressed: {directory}')\n",
        "#     except HTTPError as e:\n",
        "#         print(f'Failed to load (likely expired) {download_url} to path {destination_path}')\n",
        "#         continue\n",
        "#     except OSError as e:\n",
        "#         print(f'Failed to load {download_url} to path {destination_path}')\n",
        "#         continue\n",
        "\n",
        "# print('Data source import complete.')\n"
      ]
    },
    {
      "cell_type": "code",
      "execution_count": 3,
      "metadata": {
        "colab": {
          "base_uri": "https://localhost:8080/"
        },
        "id": "IY-UpugRpGUp",
        "outputId": "b1ee1988-e9c2-4d06-bd05-f8419057de50"
      },
      "outputs": [],
      "source": [
        "# from google.colab import drive\n",
        "# drive.mount('/content/drive')"
      ]
    },
    {
      "cell_type": "markdown",
      "metadata": {
        "id": "D0bKD6UDxBL1"
      },
      "source": [
        "# [VQ-VAE](https://arxiv.org/abs/1711.00937) by  [Aäron van den Oord](https://twitter.com/avdnoord) et al. in PyTorch\n",
        "\n",
        "## Introduction\n",
        "\n",
        "Variational Auto Encoders (VAEs) can be thought of as what all but the last layer of a neural network is doing, namely feature extraction or seperating out the data. Thus given some data we can think of using a neural network for representation generation.\n",
        "\n",
        "Recall that the goal of a generative model is to estimate the probability distribution of high dimensional data such as images, videos, audio or even text by learning the underlying structure in the data as well as the dependencies between the different elements of the data. This is very useful since we can then use this representation to generate new data with similar properties. This way we can also learn useful features from the data in an unsupervised fashion.\n",
        "\n",
        "The VQ-VAE uses a discrete latent representation mostly because many important real-world objects are discrete. For example in images we might have categories like \"Cat\", \"Car\", etc. and it might not make sense to interpolate between these categories. Discrete representations are also easier to model since each category has a single value whereas if we had a continous latent space then we will need to normalize this density function and learn the dependencies between the different variables which could be very complex.\n",
        "\n",
        "### Code\n",
        "\n",
        "I have followed the code from the TensorFlow implementation by the author which you can find here [vqvae.py](https://github.com/deepmind/sonnet/blob/master/sonnet/python/modules/nets/vqvae.py) and [vqvae_example.ipynb](https://github.com/deepmind/sonnet/blob/master/sonnet/examples/vqvae_example.ipynb).\n",
        "\n",
        "Another PyTorch implementation is found at [pytorch-vqvae](https://github.com/ritheshkumar95/pytorch-vqvae).\n",
        "\n",
        "\n",
        "## Basic Idea\n",
        "\n",
        "The overall architecture is summarized in the diagram below:\n",
        "\n",
        "![](https://github.com/zalandoresearch/pytorch-vq-vae/blob/master/images/vq-vae.png?raw=1)"
      ]
    },
    {
      "cell_type": "markdown",
      "metadata": {
        "id": "wEMokr8RxBL4"
      },
      "source": [
        "We start by defining a latent embedding space of dimension `[K, D]` where `K` are the number of embeddings and `D` is the dimensionality of each latent embeddng vector, i.e. $e_i \\in \\mathbb{R}^{D}$. The model is comprised of an encoder and a decoder. The encoder will map the input to a sequence of discrete latent variables, whereas the decoder will try to reconstruct the input from these latent sequences.\n",
        "\n",
        "More preciesly, the model will take in batches of RGB images,  say $x$, each of size 32x32 for our example, and pass it through a ConvNet encoder producing some output $E(x)$, where we make sure the channels are the same as the dimensionality of the latent embedding vectors. To calculate the discrete latent variable we find the nearest embedding vector and output it's index.\n",
        "\n",
        "The input to the decoder is the embedding vector corresponding to the index which is passed through the decoder to produce the reconstructed image.\n",
        "\n",
        "Since the nearest neighbour lookup has no real gradient in the backward pass we simply pass the gradients from the decoder to the encoder  unaltered. The intuition is that since the output representation of the encoder and the input to the decoder share the same `D` channel dimensional space, the gradients contain useful information for how the encoder has to change its output to lower the reconstruction loss.\n",
        "\n",
        "## Loss\n",
        "\n",
        "The total loss is actually composed of three components\n",
        "\n",
        "1. **reconstruction loss**: which optimizes the decoder and encoder\n",
        "1. **codebook loss**: due to the fact that gradients bypass the embedding, we use a dictionary learning algorithm  which uses an $l_2$  error to move the embedding vectors $e_i$ towards the encoder output\n",
        "1. **commitment loss**:  since the volume of the embedding space is dimensionless, it can grow arbirtarily if the embeddings $e_i$ do not train as fast as  the encoder parameters, and thus we add a commitment loss to make sure that the encoder commits to an embedding"
      ]
    },
    {
      "cell_type": "code",
      "execution_count": 4,
      "metadata": {
        "id": "2_d41rr2xBL5"
      },
      "outputs": [],
      "source": [
        "#!pip3 install -U -r requirements.txt"
      ]
    },
    {
      "cell_type": "code",
      "execution_count": 5,
      "metadata": {
        "execution": {
          "iopub.execute_input": "2024-04-27T12:03:53.319771Z",
          "iopub.status.busy": "2024-04-27T12:03:53.318998Z",
          "iopub.status.idle": "2024-04-27T12:04:00.288234Z",
          "shell.execute_reply": "2024-04-27T12:04:00.287352Z",
          "shell.execute_reply.started": "2024-04-27T12:03:53.31974Z"
        },
        "id": "Uf1P8tRMxBL6",
        "trusted": true
      },
      "outputs": [],
      "source": [
        "# from __future__ import print_function\n",
        "\n",
        "\n",
        "import matplotlib.pyplot as plt\n",
        "import numpy as np\n",
        "from scipy.signal import savgol_filter\n",
        "\n",
        "\n",
        "# from six.moves import xrange\n",
        "\n",
        "# import umap\n",
        "from tqdm import tqdm\n",
        "import torch\n",
        "import torch.nn as nn\n",
        "import torch.nn.functional as F\n",
        "from torch.utils.data import DataLoader , Dataset\n",
        "import torch.optim as optim\n",
        "\n",
        "import torchvision.datasets as datasets\n",
        "import torchvision.transforms as transforms\n",
        "from torchvision.utils import make_grid"
      ]
    },
    {
      "cell_type": "code",
      "execution_count": 6,
      "metadata": {
        "execution": {
          "iopub.execute_input": "2024-04-27T12:04:00.290449Z",
          "iopub.status.busy": "2024-04-27T12:04:00.289872Z",
          "iopub.status.idle": "2024-04-27T12:04:00.344886Z",
          "shell.execute_reply": "2024-04-27T12:04:00.343917Z",
          "shell.execute_reply.started": "2024-04-27T12:04:00.290424Z"
        },
        "id": "nyvOm--hxBL6",
        "trusted": true
      },
      "outputs": [],
      "source": [
        "device = torch.device(\"cuda\" if torch.cuda.is_available() else \"cpu\")"
      ]
    },
    {
      "cell_type": "markdown",
      "metadata": {
        "id": "vw1fRo5mxBL6"
      },
      "source": [
        "## Load Data"
      ]
    },
    {
      "cell_type": "code",
      "execution_count": 7,
      "metadata": {
        "execution": {
          "iopub.execute_input": "2024-04-27T12:04:00.346473Z",
          "iopub.status.busy": "2024-04-27T12:04:00.346098Z",
          "iopub.status.idle": "2024-04-27T12:04:00.355501Z",
          "shell.execute_reply": "2024-04-27T12:04:00.354586Z",
          "shell.execute_reply.started": "2024-04-27T12:04:00.346447Z"
        },
        "id": "ApxK-0eDdA4J",
        "trusted": true
      },
      "outputs": [],
      "source": [
        "import os\n",
        "from glob import glob1\n",
        "# from torchvision.io import read_image\n",
        "from PIL.Image import open as open_image\n",
        "\n",
        "class CustomImageDataset(Dataset):\n",
        "    def __init__(self, root, transform=None):\n",
        "        self.root = root\n",
        "        self.img_dir = glob1(root, '*.jpg') + glob1(root, '*.png') + glob1(root, '*.jpeg')\n",
        "        self.transform = transform\n",
        "\n",
        "\n",
        "    def __len__(self):\n",
        "        return len(self.img_dir)\n",
        "\n",
        "    def __getitem__(self, idx):\n",
        "        img_path = os.path.join(self.root, self.img_dir[idx])\n",
        "        image = open_image(img_path)\n",
        "        if self.transform:\n",
        "            image = self.transform(image)\n",
        "        return image"
      ]
    },
    {
      "cell_type": "code",
      "execution_count": 8,
      "metadata": {
        "colab": {
          "base_uri": "https://localhost:8080/"
        },
        "execution": {
          "iopub.execute_input": "2024-04-27T12:04:00.358344Z",
          "iopub.status.busy": "2024-04-27T12:04:00.357814Z",
          "iopub.status.idle": "2024-04-27T12:04:00.364Z",
          "shell.execute_reply": "2024-04-27T12:04:00.36318Z",
          "shell.execute_reply.started": "2024-04-27T12:04:00.358318Z"
        },
        "id": "akEb56BadA4J",
        "outputId": "06067b23-7db0-4708-b8de-9e1c7e3171df",
        "trusted": true
      },
      "outputs": [],
      "source": [
        "# training_data = CustomImageDataset(root=r\"/kaggle/input/dl-a5-data/Train_data-001/Train_data\", transform=transforms.Compose([ transforms.CenterCrop(128),transforms.ToTensor(), transforms.Normalize(mean=(0, 0, 0), std=(1, 1, 1))]))\n",
        "# train_loader = DataLoader(training_data, batch_size=256, shuffle=False)\n",
        "# # placeholders\n",
        "# psum = torch.tensor([0.0, 0.0, 0.0])\n",
        "# psum_sq = torch.tensor([0.0, 0.0, 0.0])\n",
        "\n",
        "# # loop through images\n",
        "# imgs = []\n",
        "# for inputs in tqdm(train_loader):\n",
        "#     psum += inputs.sum(axis=[0, 2, 3])\n",
        "#     psum_sq += (inputs**2).sum(axis=[0, 2, 3])\n",
        "#     imgs.append(inputs)\n",
        "# data_isic = torch.cat(imgs, dim=0)\n",
        "# data_variance = torch.var(data_isic)\n"
      ]
    },
    {
      "cell_type": "code",
      "execution_count": 9,
      "metadata": {
        "colab": {
          "base_uri": "https://localhost:8080/"
        },
        "execution": {
          "iopub.execute_input": "2024-04-27T12:04:00.365528Z",
          "iopub.status.busy": "2024-04-27T12:04:00.365205Z",
          "iopub.status.idle": "2024-04-27T12:04:00.372741Z",
          "shell.execute_reply": "2024-04-27T12:04:00.371905Z",
          "shell.execute_reply.started": "2024-04-27T12:04:00.365498Z"
        },
        "id": "8tXujdvDdA4K",
        "outputId": "e34d900a-d0fc-48f5-ecfe-8440753eee62",
        "trusted": true
      },
      "outputs": [],
      "source": [
        "# ####### FINAL CALCULATIONS\n",
        "\n",
        "# # pixel count\n",
        "# count = len(training_data) * 128 * 128\n",
        "\n",
        "# # mean and std\n",
        "# total_mean = psum / count\n",
        "# total_var = (psum_sq / count) - (total_mean**2)\n",
        "# total_std = torch.sqrt(total_var)\n",
        "\n",
        "# # output\n",
        "# print(\"mean: \" + str(total_mean))\n",
        "# print(\"std:  \" + str(total_std))\n",
        "# print('var' , data_variance)"
      ]
    },
    {
      "cell_type": "code",
      "execution_count": 10,
      "metadata": {
        "execution": {
          "iopub.execute_input": "2024-04-27T12:04:00.374085Z",
          "iopub.status.busy": "2024-04-27T12:04:00.373744Z",
          "iopub.status.idle": "2024-04-27T12:04:00.666269Z",
          "shell.execute_reply": "2024-04-27T12:04:00.665463Z",
          "shell.execute_reply.started": "2024-04-27T12:04:00.374063Z"
        },
        "id": "zHvsCGXvxBL7",
        "trusted": true
      },
      "outputs": [],
      "source": [
        "mean =  (0.6567, 0.3680, 0.3743)\n",
        "std =   (0.1701, 0.1709, 0.1831)\n",
        "data_variance = 0.0487\n",
        "# root = \"/kaggle/input/dl-a5-data/\"\n",
        "root = r'D:/programming/Assignment_5'\n",
        "training_data = CustomImageDataset(root=root + \"/Train_data\",\n",
        "                                  transform=transforms.Compose([\n",
        "                                      transforms.RandomHorizontalFlip(0.4),\n",
        "                                    transforms.RandomRotation(10),\n",
        "                                    # transforms.RandomCrop(128, padding=4, padding_mode='reflect'),\n",
        "                                      transforms.CenterCrop(128),\n",
        "                                      transforms.ToTensor(),\n",
        "                                      transforms.Normalize(mean, std)\n",
        "                                  ]))\n",
        "\n",
        "validation_data = CustomImageDataset(root=root + \"/Test/Test_data\",\n",
        "                                  transform=transforms.Compose([\n",
        "                                      transforms.ToTensor(),\n",
        "                                      transforms.Normalize(mean, std)]))"
      ]
    },
    {
      "cell_type": "markdown",
      "metadata": {
        "id": "NlMpzvzfxBL8"
      },
      "source": [
        "## Vector Quantizer Layer\n",
        "\n",
        "This layer takes a tensor to be quantized. The channel dimension will be used as the space in which to quantize. All other dimensions will be flattened and will be seen as different examples to quantize.\n",
        "\n",
        "The output tensor will have the same shape as the input.\n",
        "\n",
        "As an example for a `BCHW` tensor of shape `[16, 64, 32, 32]`, we will first convert it to an `BHWC` tensor of shape `[16, 32, 32, 64]` and then reshape it into `[16384, 64]` and all `16384` vectors of size `64`  will be quantized independently. In otherwords, the channels are used as the space in which to quantize. All other dimensions will be flattened and be seen as different examples to quantize, `16384` in this case."
      ]
    },
    {
      "cell_type": "code",
      "execution_count": 11,
      "metadata": {
        "execution": {
          "iopub.execute_input": "2024-04-27T12:04:00.667735Z",
          "iopub.status.busy": "2024-04-27T12:04:00.667386Z",
          "iopub.status.idle": "2024-04-27T12:04:00.680053Z",
          "shell.execute_reply": "2024-04-27T12:04:00.679303Z",
          "shell.execute_reply.started": "2024-04-27T12:04:00.667701Z"
        },
        "id": "9muzfIa4xBL8",
        "trusted": true
      },
      "outputs": [],
      "source": [
        "class VectorQuantizer(nn.Module):\n",
        "    def __init__(self, num_embeddings, embedding_dim, commitment_cost):\n",
        "        super(VectorQuantizer, self).__init__()\n",
        "\n",
        "        self._embedding_dim = embedding_dim\n",
        "        self._num_embeddings = num_embeddings\n",
        "\n",
        "        self._embedding = nn.Embedding(self._num_embeddings, self._embedding_dim)\n",
        "        self._embedding.weight.data.uniform_(-1/self._num_embeddings, 1/self._num_embeddings)\n",
        "        self._commitment_cost = commitment_cost\n",
        "\n",
        "    def forward(self, inputs):\n",
        "        # convert inputs from BCHW -> BHWC\n",
        "        inputs = inputs.permute(0, 2, 3, 1).contiguous()\n",
        "        input_shape = inputs.shape\n",
        "\n",
        "        # Flatten input\n",
        "        flat_input = inputs.view(-1, self._embedding_dim)\n",
        "\n",
        "        # Calculate distances\n",
        "        distances = (torch.sum(flat_input**2, dim=1, keepdim=True)\n",
        "                    + torch.sum(self._embedding.weight**2, dim=1)\n",
        "                    - 2 * torch.matmul(flat_input, self._embedding.weight.t()))\n",
        "\n",
        "        # Encoding\n",
        "        encoding_indices = torch.argmin(distances, dim=1).unsqueeze(1)\n",
        "        encodings = torch.zeros(encoding_indices.shape[0], self._num_embeddings, device=inputs.device)\n",
        "        encodings.scatter_(1, encoding_indices, 1)\n",
        "\n",
        "        # Quantize and unflatten\n",
        "        quantized = torch.matmul(encodings, self._embedding.weight).view(input_shape)\n",
        "\n",
        "        # Loss\n",
        "        e_latent_loss = F.mse_loss(quantized.detach(), inputs)\n",
        "        q_latent_loss = F.mse_loss(quantized, inputs.detach())\n",
        "        loss = q_latent_loss + self._commitment_cost * e_latent_loss\n",
        "\n",
        "        quantized = inputs + (quantized - inputs).detach()\n",
        "        avg_probs = torch.mean(encodings, dim=0)\n",
        "        perplexity = torch.exp(-torch.sum(avg_probs * torch.log(avg_probs + 1e-10)))\n",
        "\n",
        "        # convert quantized from BHWC -> BCHW\n",
        "        return loss, quantized.permute(0, 3, 1, 2).contiguous(), perplexity, encodings"
      ]
    },
    {
      "cell_type": "markdown",
      "metadata": {
        "id": "cBwHsDMOxBL8"
      },
      "source": [
        "We will also implement a slightly modified version  which will use exponential moving averages to update the embedding vectors instead of an auxillary loss. This has the advantage that the embedding updates are independent of the choice of optimizer for the encoder, decoder and other parts of the architecture. For most experiments the EMA version trains faster than the non-EMA version."
      ]
    },
    {
      "cell_type": "code",
      "execution_count": 12,
      "metadata": {
        "execution": {
          "iopub.execute_input": "2024-04-27T12:04:00.681512Z",
          "iopub.status.busy": "2024-04-27T12:04:00.6812Z",
          "iopub.status.idle": "2024-04-27T12:04:00.698353Z",
          "shell.execute_reply": "2024-04-27T12:04:00.697349Z",
          "shell.execute_reply.started": "2024-04-27T12:04:00.68149Z"
        },
        "id": "QRrW7j6DxBL8",
        "trusted": true
      },
      "outputs": [],
      "source": [
        "class VectorQuantizerEMA(nn.Module):\n",
        "    def __init__(self, num_embeddings, embedding_dim, commitment_cost, decay, epsilon=1e-5):\n",
        "        super(VectorQuantizerEMA, self).__init__()\n",
        "\n",
        "        self._embedding_dim = embedding_dim\n",
        "        self._num_embeddings = num_embeddings\n",
        "\n",
        "        self._embedding = nn.Embedding(self._num_embeddings, self._embedding_dim)\n",
        "        self._embedding.weight.data.normal_()\n",
        "        self._commitment_cost = commitment_cost\n",
        "\n",
        "        self.register_buffer('_ema_cluster_size', torch.zeros(num_embeddings))\n",
        "        self._ema_w = nn.Parameter(torch.Tensor(num_embeddings, self._embedding_dim))\n",
        "        self._ema_w.data.normal_()\n",
        "\n",
        "        self._decay = decay\n",
        "        self._epsilon = epsilon\n",
        "\n",
        "    def forward(self, inputs):\n",
        "        # convert inputs from BCHW -> BHWC\n",
        "        inputs = inputs.permute(0, 2, 3, 1).contiguous()\n",
        "        input_shape = inputs.shape\n",
        "\n",
        "        # Flatten input\n",
        "        flat_input = inputs.view(-1, self._embedding_dim)\n",
        "\n",
        "        # Calculate distances\n",
        "        distances = (torch.sum(flat_input**2, dim=1, keepdim=True)\n",
        "                    + torch.sum(self._embedding.weight**2, dim=1)\n",
        "                    - 2 * torch.matmul(flat_input, self._embedding.weight.t()))\n",
        "\n",
        "        # Encoding\n",
        "        encoding_indices = torch.argmin(distances, dim=1).unsqueeze(1)\n",
        "        encodings = torch.zeros(encoding_indices.shape[0], self._num_embeddings, device=inputs.device)\n",
        "        encodings.scatter_(1, encoding_indices, 1)\n",
        "\n",
        "        # Quantize and unflatten\n",
        "        quantized = torch.matmul(encodings, self._embedding.weight).view(input_shape)\n",
        "\n",
        "        # Use EMA to update the embedding vectors\n",
        "        if self.training:\n",
        "            self._ema_cluster_size = self._ema_cluster_size * self._decay + \\\n",
        "                                     (1 - self._decay) * torch.sum(encodings, 0)\n",
        "\n",
        "            # Laplace smoothing of the cluster size\n",
        "            n = torch.sum(self._ema_cluster_size.data)\n",
        "            self._ema_cluster_size = (\n",
        "                (self._ema_cluster_size + self._epsilon)\n",
        "                / (n + self._num_embeddings * self._epsilon) * n)\n",
        "\n",
        "            dw = torch.matmul(encodings.t(), flat_input)\n",
        "            self._ema_w = nn.Parameter(self._ema_w * self._decay + (1 - self._decay) * dw)\n",
        "\n",
        "            self._embedding.weight = nn.Parameter(self._ema_w / self._ema_cluster_size.unsqueeze(1))\n",
        "\n",
        "        # Loss\n",
        "        e_latent_loss = F.mse_loss(quantized.detach(), inputs)\n",
        "        loss = self._commitment_cost * e_latent_loss\n",
        "\n",
        "        # Straight Through Estimator\n",
        "        quantized = inputs + (quantized - inputs).detach()\n",
        "        avg_probs = torch.mean(encodings, dim=0)\n",
        "        perplexity = torch.exp(-torch.sum(avg_probs * torch.log(avg_probs + 1e-10)))\n",
        "\n",
        "        # convert quantized from BHWC -> BCHW\n",
        "        return loss, quantized.permute(0, 3, 1, 2).contiguous(), perplexity, encodings"
      ]
    },
    {
      "cell_type": "markdown",
      "metadata": {
        "id": "9-el1TuuxBL9"
      },
      "source": [
        "## Encoder & Decoder Architecture\n",
        "\n",
        "The encoder and decoder architecture is based on a ResNet and is implemented below:"
      ]
    },
    {
      "cell_type": "code",
      "execution_count": 13,
      "metadata": {
        "execution": {
          "iopub.execute_input": "2024-04-27T12:04:00.699804Z",
          "iopub.status.busy": "2024-04-27T12:04:00.699511Z",
          "iopub.status.idle": "2024-04-27T12:04:00.711291Z",
          "shell.execute_reply": "2024-04-27T12:04:00.710388Z",
          "shell.execute_reply.started": "2024-04-27T12:04:00.699771Z"
        },
        "id": "apF6lDz4xBL9",
        "trusted": true
      },
      "outputs": [],
      "source": [
        "class Residual(nn.Module):\n",
        "    def __init__(self, in_channels, num_hiddens, num_residual_hiddens):\n",
        "        super(Residual, self).__init__()\n",
        "        self._block = nn.Sequential(\n",
        "            nn.ReLU(True),\n",
        "            nn.Conv2d(in_channels=in_channels,\n",
        "                      out_channels=num_residual_hiddens,\n",
        "                      kernel_size=3, stride=1, padding=1, bias=False),\n",
        "            nn.ReLU(True),\n",
        "            nn.Conv2d(in_channels=num_residual_hiddens,\n",
        "                      out_channels=num_hiddens,\n",
        "                      kernel_size=1, stride=1, bias=False)\n",
        "        )\n",
        "\n",
        "    def forward(self, x):\n",
        "        return x + self._block(x)\n",
        "\n",
        "\n",
        "class ResidualStack(nn.Module):\n",
        "    def __init__(self, in_channels, num_hiddens, num_residual_layers, num_residual_hiddens):\n",
        "        super(ResidualStack, self).__init__()\n",
        "        self._num_residual_layers = num_residual_layers\n",
        "        self._layers = nn.ModuleList([Residual(in_channels, num_hiddens, num_residual_hiddens)\n",
        "                             for _ in range(self._num_residual_layers)])\n",
        "\n",
        "    def forward(self, x):\n",
        "        for i in range(self._num_residual_layers):\n",
        "            x = self._layers[i](x)\n",
        "        return F.relu(x)"
      ]
    },
    {
      "cell_type": "code",
      "execution_count": 14,
      "metadata": {
        "execution": {
          "iopub.execute_input": "2024-04-27T12:04:00.714438Z",
          "iopub.status.busy": "2024-04-27T12:04:00.714136Z",
          "iopub.status.idle": "2024-04-27T12:04:00.723012Z",
          "shell.execute_reply": "2024-04-27T12:04:00.722181Z",
          "shell.execute_reply.started": "2024-04-27T12:04:00.714407Z"
        },
        "id": "0CzSYb25xBL9",
        "trusted": true
      },
      "outputs": [],
      "source": [
        "class Encoder(nn.Module):\n",
        "    def __init__(self, in_channels, num_hiddens, num_residual_layers, num_residual_hiddens):\n",
        "        super(Encoder, self).__init__()\n",
        "\n",
        "        self._conv_1 = nn.Conv2d(in_channels=in_channels,\n",
        "                                 out_channels=num_hiddens//2,\n",
        "                                 kernel_size=4,\n",
        "                                 stride=2, padding=1)\n",
        "        self._conv_2 = nn.Conv2d(in_channels=num_hiddens//2,\n",
        "                                 out_channels=num_hiddens,\n",
        "                                 kernel_size=4,\n",
        "                                 stride=2, padding=1)\n",
        "        self._conv_3 = nn.Conv2d(in_channels=num_hiddens,\n",
        "                                 out_channels=num_hiddens,\n",
        "                                 kernel_size=3,\n",
        "                                 stride=1, padding=1)\n",
        "        self._residual_stack = ResidualStack(in_channels=num_hiddens,\n",
        "                                             num_hiddens=num_hiddens,\n",
        "                                             num_residual_layers=num_residual_layers,\n",
        "                                             num_residual_hiddens=num_residual_hiddens)\n",
        "\n",
        "    def forward(self, inputs):\n",
        "        x = self._conv_1(inputs)\n",
        "        x = F.relu(x)\n",
        "\n",
        "        x = self._conv_2(x)\n",
        "        x = F.relu(x)\n",
        "\n",
        "        x = self._conv_3(x)\n",
        "        return self._residual_stack(x)"
      ]
    },
    {
      "cell_type": "code",
      "execution_count": 15,
      "metadata": {
        "execution": {
          "iopub.execute_input": "2024-04-27T12:04:00.724262Z",
          "iopub.status.busy": "2024-04-27T12:04:00.723969Z",
          "iopub.status.idle": "2024-04-27T12:04:00.734204Z",
          "shell.execute_reply": "2024-04-27T12:04:00.733406Z",
          "shell.execute_reply.started": "2024-04-27T12:04:00.724239Z"
        },
        "id": "RPbeBi1ZxBL9",
        "trusted": true
      },
      "outputs": [],
      "source": [
        "class Decoder(nn.Module):\n",
        "    def __init__(self, in_channels, num_hiddens, num_residual_layers, num_residual_hiddens):\n",
        "        super(Decoder, self).__init__()\n",
        "\n",
        "        self._conv_1 = nn.Conv2d(in_channels=in_channels,\n",
        "                                 out_channels=num_hiddens,\n",
        "                                 kernel_size=3,\n",
        "                                 stride=1, padding=1)\n",
        "\n",
        "        self._residual_stack = ResidualStack(in_channels=num_hiddens,\n",
        "                                             num_hiddens=num_hiddens,\n",
        "                                             num_residual_layers=num_residual_layers,\n",
        "                                             num_residual_hiddens=num_residual_hiddens)\n",
        "\n",
        "        self._conv_trans_1 = nn.ConvTranspose2d(in_channels=num_hiddens,\n",
        "                                                out_channels=num_hiddens//2,\n",
        "                                                kernel_size=4,\n",
        "                                                stride=2, padding=1)\n",
        "\n",
        "        self._conv_trans_2 = nn.ConvTranspose2d(in_channels=num_hiddens//2,\n",
        "                                                out_channels=3,\n",
        "                                                kernel_size=4,\n",
        "                                                stride=2, padding=1)\n",
        "\n",
        "    def forward(self, inputs):\n",
        "        x = self._conv_1(inputs)\n",
        "\n",
        "        x = self._residual_stack(x)\n",
        "\n",
        "        x = self._conv_trans_1(x)\n",
        "        x = F.relu(x)\n",
        "\n",
        "        return self._conv_trans_2(x)"
      ]
    },
    {
      "cell_type": "markdown",
      "metadata": {
        "id": "t7xzkdshxBL9"
      },
      "source": [
        "## Train\n",
        "\n",
        "We use the hyperparameters from the author's code:"
      ]
    },
    {
      "cell_type": "code",
      "execution_count": 16,
      "metadata": {
        "execution": {
          "iopub.execute_input": "2024-04-27T12:04:00.735755Z",
          "iopub.status.busy": "2024-04-27T12:04:00.735494Z",
          "iopub.status.idle": "2024-04-27T12:04:00.744166Z",
          "shell.execute_reply": "2024-04-27T12:04:00.743353Z",
          "shell.execute_reply.started": "2024-04-27T12:04:00.735733Z"
        },
        "id": "1HqHMhkNxBL-",
        "trusted": true
      },
      "outputs": [],
      "source": [
        "batch_size = 256\n",
        "num_training_updates = 15000\n",
        "\n",
        "num_hiddens = 64 #128\n",
        "num_residual_hiddens = 32\n",
        "num_residual_layers = 2\n",
        "\n",
        "embedding_dim = 128\n",
        "num_embeddings = 512\n",
        "\n",
        "commitment_cost = 0.25\n",
        "\n",
        "decay = 0.99\n",
        "\n",
        "learning_rate = 1e-3"
      ]
    },
    {
      "cell_type": "code",
      "execution_count": 17,
      "metadata": {
        "execution": {
          "iopub.execute_input": "2024-04-27T12:04:00.746203Z",
          "iopub.status.busy": "2024-04-27T12:04:00.745324Z",
          "iopub.status.idle": "2024-04-27T12:04:00.751532Z",
          "shell.execute_reply": "2024-04-27T12:04:00.750669Z",
          "shell.execute_reply.started": "2024-04-27T12:04:00.746166Z"
        },
        "id": "CoDZVH_3xBL-",
        "trusted": true
      },
      "outputs": [],
      "source": [
        "# training_loader = DataLoader(training_data,\n",
        "#                              batch_size=batch_size,\n",
        "#                              shuffle=True,\n",
        "#                              pin_memory=True,\n",
        "#                             num_workers = 0)"
      ]
    },
    {
      "cell_type": "code",
      "execution_count": 18,
      "metadata": {
        "execution": {
          "iopub.execute_input": "2024-04-27T12:04:00.752749Z",
          "iopub.status.busy": "2024-04-27T12:04:00.752491Z",
          "iopub.status.idle": "2024-04-27T12:04:00.760368Z",
          "shell.execute_reply": "2024-04-27T12:04:00.759532Z",
          "shell.execute_reply.started": "2024-04-27T12:04:00.752728Z"
        },
        "id": "Ru0uPmHTxBL-",
        "trusted": true
      },
      "outputs": [],
      "source": [
        "# validation_loader = DataLoader(validation_data,\n",
        "#                                batch_size=32,\n",
        "#                                shuffle=True,\n",
        "#                                pin_memory=True,\n",
        "#                               num_workers  = 0)"
      ]
    },
    {
      "cell_type": "code",
      "execution_count": 19,
      "metadata": {
        "execution": {
          "iopub.execute_input": "2024-04-27T12:04:00.762719Z",
          "iopub.status.busy": "2024-04-27T12:04:00.761838Z",
          "iopub.status.idle": "2024-04-27T12:04:00.772925Z",
          "shell.execute_reply": "2024-04-27T12:04:00.77211Z",
          "shell.execute_reply.started": "2024-04-27T12:04:00.76269Z"
        },
        "id": "Ng-B01arxBL-",
        "trusted": true
      },
      "outputs": [],
      "source": [
        "class Model(nn.Module):\n",
        "    def __init__(self, num_hiddens, num_residual_layers, num_residual_hiddens,\n",
        "                 num_embeddings, embedding_dim, commitment_cost, decay=0):\n",
        "        super(Model, self).__init__()\n",
        "\n",
        "        self._encoder = Encoder(3, num_hiddens,\n",
        "                                num_residual_layers,\n",
        "                                num_residual_hiddens)\n",
        "        self._pre_vq_conv = nn.Conv2d(in_channels=num_hiddens,\n",
        "                                      out_channels=embedding_dim,\n",
        "                                      kernel_size=1,\n",
        "                                      stride=1)\n",
        "        if decay > 0.0:\n",
        "            self._vq_vae = VectorQuantizerEMA(num_embeddings, embedding_dim,\n",
        "                                              commitment_cost, decay)\n",
        "        else:\n",
        "            self._vq_vae = VectorQuantizer(num_embeddings, embedding_dim,\n",
        "                                           commitment_cost)\n",
        "        self._decoder = Decoder(embedding_dim,\n",
        "                                num_hiddens,\n",
        "                                num_residual_layers,\n",
        "                                num_residual_hiddens)\n",
        "\n",
        "    def forward(self, x):\n",
        "        z = self._encoder(x)\n",
        "        z = self._pre_vq_conv(z)\n",
        "        print(z.shape,'here')\n",
        "        loss, quantized, perplexity, _ = self._vq_vae(z)\n",
        "        x_recon = self._decoder(quantized)\n",
        "\n",
        "        return loss, x_recon, perplexity"
      ]
    },
    {
      "cell_type": "code",
      "execution_count": 20,
      "metadata": {
        "execution": {
          "iopub.execute_input": "2024-04-27T12:04:16.037193Z",
          "iopub.status.busy": "2024-04-27T12:04:16.03633Z",
          "iopub.status.idle": "2024-04-27T12:04:16.244256Z",
          "shell.execute_reply": "2024-04-27T12:04:16.243283Z",
          "shell.execute_reply.started": "2024-04-27T12:04:16.037151Z"
        },
        "id": "ovoSeIVqxBL-",
        "trusted": true
      },
      "outputs": [],
      "source": [
        "model = Model(num_hiddens, num_residual_layers, num_residual_hiddens,\n",
        "              num_embeddings, embedding_dim,\n",
        "              commitment_cost, decay)\n",
        "ngpu = torch.cuda.device_count()\n",
        "if ngpu > 1:\n",
        "    model =  nn.DataParallel(model)\n",
        "model = model.to(device)"
      ]
    },
    {
      "cell_type": "code",
      "execution_count": 21,
      "metadata": {
        "execution": {
          "iopub.execute_input": "2024-04-27T12:04:29.27825Z",
          "iopub.status.busy": "2024-04-27T12:04:29.277248Z",
          "iopub.status.idle": "2024-04-27T12:04:29.284508Z",
          "shell.execute_reply": "2024-04-27T12:04:29.283605Z",
          "shell.execute_reply.started": "2024-04-27T12:04:29.278207Z"
        },
        "id": "EBbEEbyZdA4M",
        "trusted": true
      },
      "outputs": [],
      "source": [
        "def show(img):\n",
        "    npimg = img.numpy()\n",
        "    fig = plt.imshow(np.transpose(npimg, (1,2,0)), interpolation='nearest')\n",
        "    fig.axes.get_xaxis().set_visible(False)\n",
        "    fig.axes.get_yaxis().set_visible(False)\n",
        "def denorm(img_tensors,mean,std):\n",
        "    stats_image = (mean,std)\n",
        "    return img_tensors * stats_image[1][0] + stats_image[0][0]"
      ]
    },
    {
      "cell_type": "code",
      "execution_count": 22,
      "metadata": {
        "execution": {
          "iopub.execute_input": "2024-04-27T12:04:32.371622Z",
          "iopub.status.busy": "2024-04-27T12:04:32.370954Z",
          "iopub.status.idle": "2024-04-27T12:04:32.376321Z",
          "shell.execute_reply": "2024-04-27T12:04:32.375408Z",
          "shell.execute_reply.started": "2024-04-27T12:04:32.37159Z"
        },
        "id": "q4JdPXRhxBL-",
        "trusted": true
      },
      "outputs": [],
      "source": [
        "# optimizer = optim.Adam(model.parameters(), lr=learning_rate, amsgrad=False)"
      ]
    },
    {
      "cell_type": "code",
      "execution_count": 23,
      "metadata": {
        "colab": {
          "base_uri": "https://localhost:8080/",
          "height": 1000
        },
        "execution": {
          "iopub.execute_input": "2024-04-27T12:06:52.194624Z",
          "iopub.status.busy": "2024-04-27T12:06:52.193669Z"
        },
        "id": "QD1gd8GdxBL-",
        "outputId": "21b0897d-e2c8-4fb5-ad84-172f87bed4ab",
        "trusted": true
      },
      "outputs": [],
      "source": [
        "# model.train()\n",
        "# train_res_recon_error = []\n",
        "# train_res_perplexity = []\n",
        "# epochs = 50\n",
        "# for i in range(epochs):\n",
        "#     for data in tqdm(training_loader):\n",
        "#         data = data.to(device)\n",
        "#         optimizer.zero_grad()\n",
        "\n",
        "#         vq_loss, data_recon, perplexity = model(data)\n",
        "#         recon_error = F.mse_loss(data_recon, data) / data_variance\n",
        "#         loss = recon_error + vq_loss\n",
        "#         loss.backward()\n",
        "\n",
        "#         optimizer.step()\n",
        "\n",
        "#         train_res_recon_error.append(recon_error.item())\n",
        "#         train_res_perplexity.append(perplexity.item())\n",
        "#         # break\n",
        "\n",
        "#         # if (i+1) % 100 == 0:\n",
        "\n",
        "#     print(f'epoch: {i+1}/{epochs} ')\n",
        "#     print('%d iterations' % ((i+1)*len(training_loader)))\n",
        "#     print('recon_error: %.3f' % np.mean(train_res_recon_error[-100:]))\n",
        "#     print('perplexity: %.3f' % np.mean(train_res_perplexity[-100:]))\n",
        "#     show(make_grid(denorm(data[:16].cpu().data,mean,std)))\n",
        "#     plt.show()\n",
        "#     show(make_grid(denorm(data_recon[:16].cpu().data,mean,std)))\n",
        "#     plt.show()\n",
        "\n",
        "#     state_dict = {\n",
        "#         'model': model.state_dict(),\n",
        "#         'epochs':i,\n",
        "#         'recon_error': np.mean(train_res_recon_error[-100:]),\n",
        "#         'perplexity': np.mean(train_res_perplexity[-100:]),\n",
        "#     }\n",
        "#     torch.save(state_dict,'/content/drive/MyDrive/DL_A5/model_vqvae.pth')\n",
        "#     print('model saved')\n",
        "#     print()\n",
        "#     # break\n"
      ]
    },
    {
      "cell_type": "code",
      "execution_count": null,
      "metadata": {
        "id": "MlV19HB-pCEL"
      },
      "outputs": [],
      "source": []
    },
    {
      "cell_type": "markdown",
      "metadata": {
        "id": "smTJwZXUxBL-"
      },
      "source": [
        "## Plot Loss"
      ]
    },
    {
      "cell_type": "code",
      "execution_count": 24,
      "metadata": {
        "id": "sbb6h1UuxBL-"
      },
      "outputs": [],
      "source": [
        "# train_res_recon_error_smooth = savgol_filter(train_res_recon_error, 201, 7)\n",
        "# train_res_perplexity_smooth = savgol_filter(train_res_perplexity, 201, 7)"
      ]
    },
    {
      "cell_type": "code",
      "execution_count": 25,
      "metadata": {
        "colab": {
          "base_uri": "https://localhost:8080/",
          "height": 736
        },
        "id": "YNkmUeoUxBL_",
        "outputId": "fb5dde88-a00e-4e2b-b890-faf07beee64d"
      },
      "outputs": [],
      "source": [
        "# f = plt.figure(figsize=(16,8))\n",
        "# ax = f.add_subplot(1,2,1)\n",
        "# ax.plot(train_res_recon_error_smooth)\n",
        "# ax.set_yscale('log')\n",
        "# ax.set_title('Smoothed NMSE.')\n",
        "# ax.set_xlabel('iteration')\n",
        "\n",
        "# ax = f.add_subplot(1,2,2)\n",
        "# ax.plot(train_res_perplexity_smooth)\n",
        "# ax.set_title('Smoothed Average codebook usage (perplexity).')\n",
        "# ax.set_xlabel('iteration')"
      ]
    },
    {
      "cell_type": "markdown",
      "metadata": {
        "id": "29OrC6CexBL_"
      },
      "source": [
        "## View Reconstructions"
      ]
    },
    {
      "cell_type": "code",
      "execution_count": 26,
      "metadata": {
        "id": "vVrshCxFxBL_"
      },
      "outputs": [],
      "source": [
        "# model.eval()\n",
        "\n",
        "# (valid_originals) = next(iter(validation_loader))\n",
        "# valid_originals = valid_originals.to(device)\n",
        "\n",
        "# vq_output_eval = model._pre_vq_conv(model._encoder(valid_originals))\n",
        "# _, valid_quantize, _, encodings = model._vq_vae(vq_output_eval)\n",
        "# valid_reconstructions = model._decoder(valid_quantize)"
      ]
    },
    {
      "cell_type": "code",
      "execution_count": null,
      "metadata": {},
      "outputs": [],
      "source": []
    },
    {
      "cell_type": "code",
      "execution_count": 27,
      "metadata": {
        "id": "RTjxW-aXxBL_"
      },
      "outputs": [],
      "source": [
        "# (train_originals) = next(iter(training_loader))\n",
        "# train_originals = train_originals.to(device)\n",
        "# _, train_reconstructions, _, _ = model._vq_vae(train_originals)"
      ]
    },
    {
      "cell_type": "code",
      "execution_count": null,
      "metadata": {
        "id": "Fw6cumwGxBL_"
      },
      "outputs": [],
      "source": []
    },
    {
      "cell_type": "code",
      "execution_count": 28,
      "metadata": {
        "colab": {
          "base_uri": "https://localhost:8080/",
          "height": 240
        },
        "id": "HbeV2UfhxBMB",
        "outputId": "b85c078c-37ad-48ba-845f-00c4cc6ad14c"
      },
      "outputs": [],
      "source": [
        "# show(make_grid(denorm(valid_reconstructions.cpu().data,mean,std)))"
      ]
    },
    {
      "cell_type": "code",
      "execution_count": 29,
      "metadata": {
        "colab": {
          "base_uri": "https://localhost:8080/",
          "height": 241
        },
        "id": "ScDY-bYQxBMB",
        "outputId": "36adedcb-f497-42d5-86a3-3f9456dda4ff"
      },
      "outputs": [],
      "source": [
        "# show(make_grid(denorm(valid_originals.cpu().data,mean,std)))"
      ]
    },
    {
      "cell_type": "markdown",
      "metadata": {
        "id": "H3t455CMxBMC"
      },
      "source": [
        "## View Embedding"
      ]
    },
    {
      "cell_type": "code",
      "execution_count": 30,
      "metadata": {
        "id": "1t7XZ2G-nQIy"
      },
      "outputs": [],
      "source": [
        "# torch.save(model.state_dict(), 'model_vqvae_e50.pth')"
      ]
    },
    {
      "cell_type": "code",
      "execution_count": 31,
      "metadata": {
        "id": "12CmTOLrm1kS"
      },
      "outputs": [],
      "source": [
        "# !pip install umap-learn\n",
        "# import umap"
      ]
    },
    {
      "cell_type": "code",
      "execution_count": null,
      "metadata": {
        "colab": {
          "base_uri": "https://localhost:8080/",
          "height": 326
        },
        "id": "jViimSPuAhki",
        "outputId": "635692b7-271c-48ee-fa80-60f979683472"
      },
      "outputs": [],
      "source": []
    },
    {
      "cell_type": "code",
      "execution_count": 32,
      "metadata": {
        "colab": {
          "base_uri": "https://localhost:8080/",
          "height": 182
        },
        "id": "yQNwe4sgxBMC",
        "outputId": "db50e39b-f7ad-4f4d-ebee-c7098e97fca1"
      },
      "outputs": [],
      "source": [
        "# proj = umap.UMAP(n_neighbors=3,\n",
        "#                  min_dist=0.1,\n",
        "#                  metric='cosine').fit_transform(model._vq_vae._embedding.weight.data.cpu())"
      ]
    },
    {
      "cell_type": "code",
      "execution_count": 33,
      "metadata": {
        "id": "XbDZd5JTxBMC"
      },
      "outputs": [],
      "source": [
        "# plt.scatter(proj[:,0], proj[:,1], alpha=0.3)"
      ]
    },
    {
      "cell_type": "markdown",
      "metadata": {
        "id": "-r_kQEkvxBMC"
      },
      "source": [
        "# Model Inference "
      ]
    },
    {
      "cell_type": "code",
      "execution_count": null,
      "metadata": {},
      "outputs": [],
      "source": []
    },
    {
      "cell_type": "code",
      "execution_count": 34,
      "metadata": {},
      "outputs": [
        {
          "data": {
            "text/plain": [
              "<All keys matched successfully>"
            ]
          },
          "execution_count": 34,
          "metadata": {},
          "output_type": "execute_result"
        }
      ],
      "source": [
        "model.load_state_dict(torch.load('./model_vqvae.pth')['model'])"
      ]
    },
    {
      "cell_type": "code",
      "execution_count": null,
      "metadata": {},
      "outputs": [],
      "source": []
    },
    {
      "cell_type": "code",
      "execution_count": 35,
      "metadata": {},
      "outputs": [
        {
          "data": {
            "text/plain": [
              "Model(\n",
              "  (_encoder): Encoder(\n",
              "    (_conv_1): Conv2d(3, 32, kernel_size=(4, 4), stride=(2, 2), padding=(1, 1))\n",
              "    (_conv_2): Conv2d(32, 64, kernel_size=(4, 4), stride=(2, 2), padding=(1, 1))\n",
              "    (_conv_3): Conv2d(64, 64, kernel_size=(3, 3), stride=(1, 1), padding=(1, 1))\n",
              "    (_residual_stack): ResidualStack(\n",
              "      (_layers): ModuleList(\n",
              "        (0-1): 2 x Residual(\n",
              "          (_block): Sequential(\n",
              "            (0): ReLU(inplace=True)\n",
              "            (1): Conv2d(64, 32, kernel_size=(3, 3), stride=(1, 1), padding=(1, 1), bias=False)\n",
              "            (2): ReLU(inplace=True)\n",
              "            (3): Conv2d(32, 64, kernel_size=(1, 1), stride=(1, 1), bias=False)\n",
              "          )\n",
              "        )\n",
              "      )\n",
              "    )\n",
              "  )\n",
              "  (_pre_vq_conv): Conv2d(64, 128, kernel_size=(1, 1), stride=(1, 1))\n",
              "  (_vq_vae): VectorQuantizerEMA(\n",
              "    (_embedding): Embedding(512, 128)\n",
              "  )\n",
              "  (_decoder): Decoder(\n",
              "    (_conv_1): Conv2d(128, 64, kernel_size=(3, 3), stride=(1, 1), padding=(1, 1))\n",
              "    (_residual_stack): ResidualStack(\n",
              "      (_layers): ModuleList(\n",
              "        (0-1): 2 x Residual(\n",
              "          (_block): Sequential(\n",
              "            (0): ReLU(inplace=True)\n",
              "            (1): Conv2d(64, 32, kernel_size=(3, 3), stride=(1, 1), padding=(1, 1), bias=False)\n",
              "            (2): ReLU(inplace=True)\n",
              "            (3): Conv2d(32, 64, kernel_size=(1, 1), stride=(1, 1), bias=False)\n",
              "          )\n",
              "        )\n",
              "      )\n",
              "    )\n",
              "    (_conv_trans_1): ConvTranspose2d(64, 32, kernel_size=(4, 4), stride=(2, 2), padding=(1, 1))\n",
              "    (_conv_trans_2): ConvTranspose2d(32, 3, kernel_size=(4, 4), stride=(2, 2), padding=(1, 1))\n",
              "  )\n",
              ")"
            ]
          },
          "execution_count": 35,
          "metadata": {},
          "output_type": "execute_result"
        }
      ],
      "source": [
        "# model(input)\n",
        "model.eval()"
      ]
    },
    {
      "cell_type": "code",
      "execution_count": 36,
      "metadata": {},
      "outputs": [],
      "source": [
        "embedding_dim = 128\n",
        "num_embeddings = 512"
      ]
    },
    {
      "cell_type": "code",
      "execution_count": 37,
      "metadata": {},
      "outputs": [
        {
          "name": "stdout",
          "output_type": "stream",
          "text": [
            "torch.Size([16384, 1])\n"
          ]
        },
        {
          "data": {
            "image/png": "[encoded data removed]",
            "text/plain": [
              "<Figure size 640x480 with 1 Axes>"
            ]
          },
          "metadata": {},
          "output_type": "display_data"
        }
      ],
      "source": [
        "N = 16\n",
        "input_shape = (N, 32, 32, 128)\n",
        "z = torch.randint(0, num_embeddings, (N*32*32,)).unsqueeze(1).to(device)\n",
        "encodings = torch.zeros(z.shape[0], num_embeddings, device=device)\n",
        "encodings.scatter_(1, z, 1)\n",
        "# Quantize and unflatten\n",
        "print(z.shape)\n",
        "quantized = torch.matmul(encodings, model._vq_vae._embedding.weight).view(input_shape).permute(0, 3, 1, 2)\n",
        "\n",
        "x_recon = model._decoder(quantized)\n",
        "show(make_grid(denorm(x_recon.cpu().data,mean,std)))"
      ]
    },
    {
      "cell_type": "code",
      "execution_count": 80,
      "metadata": {},
      "outputs": [
        {
          "data": {
            "text/plain": [
              "<torch._C.Generator at 0x2610a6bfeb0>"
            ]
          },
          "execution_count": 80,
          "metadata": {},
          "output_type": "execute_result"
        }
      ],
      "source": [
        "import torch\n",
        "import torch.nn as nn\n",
        "from torch.nn import functional as F\n",
        "\n",
        "\n",
        "# hyperparameters\n",
        "batch_size = 128 # how many independent sequences will we process in parallel?\n",
        "block_size = 256 # what is the maximum context length for predictions?\n",
        "max_iters = 5000\n",
        "eval_interval = 500\n",
        "learning_rate = 4e-4\n",
        "device = 'cuda' if torch.cuda.is_available() else 'cpu'\n",
        "eval_iters = 200\n",
        "n_embd = 128 # embedding dimension\n",
        "n_head = 6\n",
        "n_layer = 6\n",
        "dropout = 0.2\n",
        "vocab_size = 512 + 2 #number of embeddings in the VQ-VAE\n",
        "torch.manual_seed(1337)"
      ]
    },
    {
      "cell_type": "code",
      "execution_count": 81,
      "metadata": {},
      "outputs": [],
      "source": [
        "\n",
        "\n",
        "class Head(nn.Module):\n",
        "    \"\"\" one head of self-attention \"\"\"\n",
        "\n",
        "    def __init__(self, head_size):\n",
        "        super().__init__()\n",
        "        self.key = nn.Linear(n_embd, head_size, bias=False)\n",
        "        self.query = nn.Linear(n_embd, head_size, bias=False)\n",
        "        self.value = nn.Linear(n_embd, head_size, bias=False)\n",
        "        self.register_buffer('tril', torch.tril(torch.ones(block_size, block_size)))\n",
        "\n",
        "        self.dropout = nn.Dropout(dropout)\n",
        "\n",
        "    def forward(self, x):\n",
        "        # input of size (batch, time-step, channels)\n",
        "        # output of size (batch, time-step, head size)\n",
        "        B,T,C = x.shape\n",
        "        k = self.key(x)   # (B,T,hs)\n",
        "        q = self.query(x) # (B,T,hs)\n",
        "        # compute attention scores (\"affinities\")\n",
        "        wei = q @ k.transpose(-2,-1) * k.shape[-1]**-0.5 # (B, T, hs) @ (B, hs, T) -> (B, T, T)\n",
        "        wei = wei.masked_fill(self.tril[:T, :T] == 0, float('-inf')) # (B, T, T)\n",
        "        wei = F.softmax(wei, dim=-1) # (B, T, T)\n",
        "        wei = self.dropout(wei)\n",
        "        # perform the weighted aggregation of the values\n",
        "        v = self.value(x) # (B,T,hs)\n",
        "        out = wei @ v # (B, T, T) @ (B, T, hs) -> (B, T, hs)\n",
        "        return out\n",
        "\n",
        "class MultiHeadAttention(nn.Module):\n",
        "    \"\"\" multiple heads of self-attention in parallel \"\"\"\n",
        "\n",
        "    def __init__(self, num_heads, head_size):\n",
        "        super().__init__()\n",
        "        self.heads = nn.ModuleList([Head(head_size) for _ in range(num_heads)])\n",
        "        self.proj = nn.Linear(head_size * num_heads, n_embd)\n",
        "        self.dropout = nn.Dropout(dropout)\n",
        "\n",
        "    def forward(self, x):\n",
        "        out = torch.cat([h(x) for h in self.heads], dim=-1)\n",
        "        out = self.dropout(self.proj(out))\n",
        "        return out\n",
        "\n",
        "class FeedFoward(nn.Module):\n",
        "    \"\"\" a simple linear layer followed by a non-linearity \"\"\"\n",
        "\n",
        "    def __init__(self, n_embd):\n",
        "        super().__init__()\n",
        "        self.net = nn.Sequential(\n",
        "            nn.Linear(n_embd, 4 * n_embd),\n",
        "            nn.ReLU(),\n",
        "            nn.Linear(4 * n_embd, n_embd),\n",
        "            nn.Dropout(dropout),\n",
        "        )\n",
        "\n",
        "    def forward(self, x):\n",
        "        return self.net(x)\n",
        "\n",
        "class Block(nn.Module):\n",
        "    \"\"\" Transformer block: communication followed by computation \"\"\"\n",
        "\n",
        "    def __init__(self, n_embd, n_head):\n",
        "        # n_embd: embedding dimension, n_head: the number of heads we'd like\n",
        "        super().__init__()\n",
        "        head_size = n_embd // n_head\n",
        "        self.sa = MultiHeadAttention(n_head, head_size)\n",
        "        self.ffwd = FeedFoward(n_embd)\n",
        "        self.ln1 = nn.LayerNorm(n_embd)\n",
        "        self.ln2 = nn.LayerNorm(n_embd)\n",
        "\n",
        "    def forward(self, x):\n",
        "        x = x + self.sa(self.ln1(x))\n",
        "        x = x + self.ffwd(self.ln2(x))\n",
        "        return x\n",
        "\n",
        "class GPTLanguageModel(nn.Module):\n",
        "\n",
        "    def __init__(self):\n",
        "        super().__init__()\n",
        "        # each token directly reads off the logits for the next token from a lookup table\n",
        "        self.token_embedding_table = nn.Embedding(vocab_size, n_embd)  # This token embedding is already fixed\n",
        "        # self.token_embedding_table  = vq_vae_embedding\n",
        "        self.position_embedding_table = nn.Embedding(block_size, n_embd)\n",
        "        self.blocks = nn.Sequential(*[Block(n_embd, n_head=n_head) for _ in range(n_layer)])\n",
        "        self.ln_f = nn.LayerNorm(n_embd) # final layer norm\n",
        "        self.lm_head = nn.Linear(n_embd, vocab_size)\n",
        "\n",
        "        # better init, not covered in the original GPT video, but important, will cover in followup video\n",
        "        self.apply(self._init_weights)\n",
        "\n",
        "    def _init_weights(self, module):\n",
        "        if isinstance(module, nn.Linear):\n",
        "            torch.nn.init.normal_(module.weight, mean=0.0, std=0.02)\n",
        "            if module.bias is not None:\n",
        "                torch.nn.init.zeros_(module.bias)\n",
        "        elif isinstance(module, nn.Embedding):\n",
        "            torch.nn.init.normal_(module.weight, mean=0.0, std=0.02)\n",
        "\n",
        "    def forward(self, idx, targets=None):\n",
        "        B, T = idx.shape\n",
        "\n",
        "        # idx and targets are both (B,T) tensor of integers\n",
        "        tok_emb = self.token_embedding_table(idx) # (B,T,C) \n",
        "        pos_emb = self.position_embedding_table(torch.arange(T, device=device)) # (T,C)\n",
        "        x = tok_emb + pos_emb # (B,T,C)\n",
        "        x = self.blocks(x) # (B,T,C)\n",
        "        x = self.ln_f(x) # (B,T,C)\n",
        "        logits = self.lm_head(x) # (B,T,vocab_size)\n",
        "\n",
        "        if targets is None:\n",
        "            loss = None\n",
        "        else:\n",
        "            B, T, C = logits.shape\n",
        "            logits = logits.view(B*T, C)\n",
        "            targets = targets.view(B*T)\n",
        "            loss = F.cross_entropy(logits, targets)\n",
        "\n",
        "        return logits, loss\n",
        "\n",
        "    def generate(self, idx, max_new_tokens):\n",
        "        # idx is (B, T) array of indices in the current context\n",
        "        for _ in range(max_new_tokens):\n",
        "            # crop idx to the last block_size tokens\n",
        "            idx_cond = idx[:, -block_size:]\n",
        "            # get the predictions\n",
        "            logits, loss = self(idx_cond)\n",
        "            # focus only on the last time step\n",
        "            logits = logits[:, -1, :] # becomes (B, C)\n",
        "            # apply softmax to get probabilities\n",
        "            probs = F.softmax(logits, dim=-1) # (B, C)\n",
        "            # sample from the distribution\n",
        "            idx_next = torch.multinomial(probs, num_samples=1) # (B, 1)\n",
        "            # append sampled index to the running sequence\n",
        "            idx = torch.cat((idx, idx_next), dim=1) # (B, T+1)\n",
        "        return idx\n"
      ]
    },
    {
      "cell_type": "code",
      "execution_count": 82,
      "metadata": {},
      "outputs": [],
      "source": [
        "batch_size = 1\n",
        "training_loader = DataLoader(training_data,\n",
        "                             batch_size=batch_size,\n",
        "                             shuffle=True,\n",
        "                             pin_memory=True,\n",
        "                            num_workers = 0)\n",
        "validation_loader = DataLoader(validation_data,\n",
        "                               batch_size=1,\n",
        "                               shuffle=True,\n",
        "                               pin_memory=True,\n",
        "                              num_workers  = 0)"
      ]
    },
    {
      "cell_type": "code",
      "execution_count": 83,
      "metadata": {},
      "outputs": [],
      "source": [
        "valid_originals = next(iter(training_loader))\n",
        "# data = data.to(device)\n",
        "input_shape = (batch_size,32,32,128)\n",
        "valid_originals = valid_originals.to(device)\n",
        "\n",
        "vq_output_eval = model._pre_vq_conv(model._encoder(valid_originals))\n",
        "_, valid_quantize, _, encodings = model._vq_vae(vq_output_eval)\n",
        "valid_reconstructions = model._decoder(valid_quantize)"
      ]
    },
    {
      "cell_type": "code",
      "execution_count": 84,
      "metadata": {},
      "outputs": [
        {
          "name": "stderr",
          "output_type": "stream",
          "text": [
            "Clipping input data to the valid range for imshow with RGB data ([0..1] for floats or [0..255] for integers).\n"
          ]
        },
        {
          "data": {
            "image/png": "[encoded data removed]",
            "text/plain": [
              "<Figure size 640x480 with 1 Axes>"
            ]
          },
          "metadata": {},
          "output_type": "display_data"
        }
      ],
      "source": [
        "show(make_grid(denorm(valid_reconstructions.cpu().data,mean,std)))"
      ]
    },
    {
      "cell_type": "code",
      "execution_count": 86,
      "metadata": {},
      "outputs": [],
      "source": [
        "start = torch.tensor([512], dtype=torch.long).to(device)\n",
        "end = torch.tensor([513], dtype=torch.long).to(device)"
      ]
    },
    {
      "cell_type": "code",
      "execution_count": 120,
      "metadata": {},
      "outputs": [],
      "source": [
        "import wandb"
      ]
    },
    {
      "cell_type": "code",
      "execution_count": 121,
      "metadata": {},
      "outputs": [
        {
          "name": "stdout",
          "output_type": "stream",
          "text": [
            "1.346306 M parameters\n"
          ]
        },
        {
          "name": "stderr",
          "output_type": "stream",
          "text": [
            "Failed to detect the name of this notebook, you can set it manually with the WANDB_NOTEBOOK_NAME environment variable to enable code saving.\n",
            "\u001b[34m\u001b[1mwandb\u001b[0m: Currently logged in as: \u001b[33mkhadgaa\u001b[0m. Use \u001b[1m`wandb login --relogin`\u001b[0m to force relogin\n"
          ]
        },
        {
          "data": {
            "text/html": [
              "wandb version 0.16.6 is available!  To upgrade, please run:\n",
              " $ pip install wandb --upgrade"
            ],
            "text/plain": [
              "<IPython.core.display.HTML object>"
            ]
          },
          "metadata": {},
          "output_type": "display_data"
        },
        {
          "data": {
            "text/html": [
              "Tracking run with wandb version 0.16.3"
            ],
            "text/plain": [
              "<IPython.core.display.HTML object>"
            ]
          },
          "metadata": {},
          "output_type": "display_data"
        },
        {
          "data": {
            "text/html": [
              "Run data is saved locally in <code>c:\\Users\\KHADGA JYOTH ALLI\\Desktop\\programming\\Class Work\\IITJ\\Deep Learning\\A5_VQ-VAE\\wandb\\run-20240429_153912-on6rqxt1</code>"
            ],
            "text/plain": [
              "<IPython.core.display.HTML object>"
            ]
          },
          "metadata": {},
          "output_type": "display_data"
        },
        {
          "data": {
            "text/html": [
              "Syncing run <strong><a href='https://wandb.ai/khadgaa/VQVAE/runs/on6rqxt1' target=\"_blank\">likely-flower-1</a></strong> to <a href='https://wandb.ai/khadgaa/VQVAE' target=\"_blank\">Weights & Biases</a> (<a href='https://wandb.me/run' target=\"_blank\">docs</a>)<br/>"
            ],
            "text/plain": [
              "<IPython.core.display.HTML object>"
            ]
          },
          "metadata": {},
          "output_type": "display_data"
        },
        {
          "data": {
            "text/html": [
              " View project at <a href='https://wandb.ai/khadgaa/VQVAE' target=\"_blank\">https://wandb.ai/khadgaa/VQVAE</a>"
            ],
            "text/plain": [
              "<IPython.core.display.HTML object>"
            ]
          },
          "metadata": {},
          "output_type": "display_data"
        },
        {
          "data": {
            "text/html": [
              " View run at <a href='https://wandb.ai/khadgaa/VQVAE/runs/on6rqxt1' target=\"_blank\">https://wandb.ai/khadgaa/VQVAE/runs/on6rqxt1</a>"
            ],
            "text/plain": [
              "<IPython.core.display.HTML object>"
            ]
          },
          "metadata": {},
          "output_type": "display_data"
        },
        {
          "name": "stderr",
          "output_type": "stream",
          "text": [
            "  0%|          | 0/5000 [00:00<?, ?it/s]"
          ]
        },
        {
          "name": "stdout",
          "output_type": "stream",
          "text": [
            "step 0: train loss 6.1996, val loss 6.2420\n"
          ]
        },
        {
          "name": "stderr",
          "output_type": "stream",
          "text": [
            "  0%|          | 1/5000 [00:32<45:42:54, 32.92s/it]"
          ]
        },
        {
          "name": "stdout",
          "output_type": "stream",
          "text": [
            "step 500: train loss 6.0359, val loss 6.1071\n"
          ]
        },
        {
          "name": "stderr",
          "output_type": "stream",
          "text": [
            " 10%|█         | 501/5000 [01:17<08:10,  9.17it/s] "
          ]
        },
        {
          "name": "stdout",
          "output_type": "stream",
          "text": [
            "step 1000: train loss 6.0285, val loss 6.1138\n"
          ]
        },
        {
          "name": "stderr",
          "output_type": "stream",
          "text": [
            " 30%|███       | 1501/5000 [02:26<04:59, 11.69it/s]"
          ]
        },
        {
          "name": "stdout",
          "output_type": "stream",
          "text": [
            "step 1500: train loss 6.0361, val loss 6.2110\n"
          ]
        },
        {
          "name": "stderr",
          "output_type": "stream",
          "text": [
            " 40%|████      | 2001/5000 [03:00<03:57, 12.64it/s]"
          ]
        },
        {
          "name": "stdout",
          "output_type": "stream",
          "text": [
            "step 2000: train loss 5.9949, val loss 6.0584\n"
          ]
        },
        {
          "name": "stderr",
          "output_type": "stream",
          "text": [
            " 40%|████      | 2001/5000 [03:17<03:57, 12.64it/s]"
          ]
        },
        {
          "name": "stdout",
          "output_type": "stream",
          "text": [
            "step 2500: train loss 5.9313, val loss 5.7888\n"
          ]
        },
        {
          "name": "stderr",
          "output_type": "stream",
          "text": [
            " 60%|██████    | 3001/5000 [03:56<02:10, 15.31it/s]"
          ]
        },
        {
          "name": "stdout",
          "output_type": "stream",
          "text": [
            "step 3000: train loss 5.8311, val loss 5.6286\n"
          ]
        },
        {
          "name": "stderr",
          "output_type": "stream",
          "text": [
            " 60%|██████    | 3001/5000 [04:07<02:10, 15.31it/s]"
          ]
        },
        {
          "name": "stdout",
          "output_type": "stream",
          "text": [
            "step 3500: train loss 5.8035, val loss 5.5136\n"
          ]
        },
        {
          "name": "stderr",
          "output_type": "stream",
          "text": [
            " 80%|████████  | 4001/5000 [04:49<00:58, 17.03it/s]"
          ]
        },
        {
          "name": "stdout",
          "output_type": "stream",
          "text": [
            "step 4000: train loss 5.6953, val loss 5.4630\n"
          ]
        },
        {
          "name": "stderr",
          "output_type": "stream",
          "text": [
            " 80%|████████  | 4001/5000 [05:07<00:58, 17.03it/s]"
          ]
        },
        {
          "name": "stdout",
          "output_type": "stream",
          "text": [
            "step 4500: train loss 5.6894, val loss 5.4274\n"
          ]
        },
        {
          "name": "stderr",
          "output_type": "stream",
          "text": [
            " 90%|█████████ | 4501/5000 [05:27<00:26, 18.53it/s]"
          ]
        },
        {
          "name": "stdout",
          "output_type": "stream",
          "text": [
            "step 4999: train loss 5.6041, val loss 5.3857\n"
          ]
        },
        {
          "name": "stderr",
          "output_type": "stream",
          "text": [
            "100%|██████████| 5000/5000 [05:36<00:00, 14.84it/s]\n"
          ]
        }
      ],
      "source": [
        "\n",
        "modelgpt = GPTLanguageModel()\n",
        "m = modelgpt.to(device)\n",
        "# print the number of parameters in the model\n",
        "print(sum(p.numel() for p in m.parameters())/1e6, 'M parameters')\n",
        "\n",
        "# create a PyTorch optimizer\n",
        "optimizer = torch.optim.AdamW(modelgpt.parameters(), lr=learning_rate)\n",
        "\n",
        "@torch.no_grad()\n",
        "def estimate_loss(training_loader, validation_loader):\n",
        "    out = {}\n",
        "    modelgpt.eval()\n",
        "    for split in ['train', 'val']:\n",
        "        losses = torch.zeros(eval_iters)\n",
        "        for k in range(eval_iters):\n",
        "            if split == 'train':\n",
        "                valid_originals = next(iter(training_loader))\n",
        "            else:\n",
        "                valid_originals = next(iter(validation_loader))\n",
        "            # data = data.to(device)\n",
        "            valid_originals = valid_originals.to(device)\n",
        "            vq_output_eval = model._pre_vq_conv(model._encoder(valid_originals))\n",
        "            _, valid_quantize, _, encodings = model._vq_vae(vq_output_eval)\n",
        "            valid_reconstructions = model._decoder(valid_quantize)\n",
        "            encodings = torch.concat((start,encodings.argmax(dim=-1).flatten(),end),dim=0)\n",
        "            X, Y = get_batch(encodings)\n",
        "            logits, loss = modelgpt(X, Y)\n",
        "            losses[k] = loss.item()\n",
        "        out[split] = losses.mean()\n",
        "    modelgpt.train()\n",
        "    return out\n",
        "# # data loading\n",
        "def get_batch(data):\n",
        "    # generate a small batch of data of inputs x and targets y\n",
        "    # data = train_data if split == 'train' else val_data\n",
        "    ix = torch.randint(len(data) - block_size, (batch_size,))\n",
        "    x = torch.stack([data[i:i+block_size] for i in ix])\n",
        "    y = torch.stack([data[i+1:i+block_size+1] for i in ix])\n",
        "    x, y = x.to(device), y.to(device)\n",
        "    return x, y\n",
        "input_shape = (batch_size,32,32,128)\n",
        "\n",
        "run = wandb.init(\n",
        "    project=\"VQVAE\",\n",
        "    entity = 'khadgaa')\n",
        "wandb.watch(modelgpt)\n",
        "\n",
        "\n",
        "for iters in tqdm(range(max_iters)):\n",
        "\n",
        "    # every once in a while evaluate the loss on train and val sets\n",
        "    if iters % eval_interval == 0 or iters == max_iters - 1:\n",
        "        losses = estimate_loss(training_loader, validation_loader)\n",
        "        print(f\"step {iters}: train loss {losses['train']:.4f}, val loss {losses['val']:.4f}\")\n",
        "        wandb.log(losses)\n",
        "    # sample a batch of data\n",
        "    \n",
        "        valid_originals = next(iter(training_loader))\n",
        "        # data = data.to(device)\n",
        "\n",
        "        valid_originals = valid_originals.to(device)\n",
        "\n",
        "        vq_output_eval = model._pre_vq_conv(model._encoder(valid_originals))\n",
        "        _, valid_quantize, _, encodings = model._vq_vae(vq_output_eval)\n",
        "        valid_reconstructions = model._decoder(valid_quantize)\n",
        "        encodings = torch.concat((start,encodings.argmax(dim=-1).flatten(),end),dim=0)\n",
        "        xb, yb = get_batch(encodings)\n",
        "\n",
        "        # evaluate the loss\n",
        "        logits, loss = modelgpt(xb, yb)\n",
        "        optimizer.zero_grad(set_to_none=True)\n",
        "        loss.backward()\n",
        "        optimizer.step()\n"
      ]
    },
    {
      "cell_type": "code",
      "execution_count": 89,
      "metadata": {},
      "outputs": [],
      "source": [
        "# valid_originals = next(iter(training_loader))"
      ]
    },
    {
      "cell_type": "code",
      "execution_count": 122,
      "metadata": {},
      "outputs": [],
      "source": [
        "context = torch.tensor([[512]], dtype=torch.long, device=device)\n",
        "generated_encode  = m.generate(context , max_new_tokens=1025)"
      ]
    },
    {
      "cell_type": "code",
      "execution_count": 123,
      "metadata": {},
      "outputs": [],
      "source": [
        "generated_encode = generated_encode[:,1:-1]"
      ]
    },
    {
      "cell_type": "code",
      "execution_count": 124,
      "metadata": {},
      "outputs": [
        {
          "data": {
            "text/plain": [
              "torch.Size([1, 1024])"
            ]
          },
          "execution_count": 124,
          "metadata": {},
          "output_type": "execute_result"
        }
      ],
      "source": [
        "generated_encode.shape"
      ]
    },
    {
      "cell_type": "code",
      "execution_count": 125,
      "metadata": {},
      "outputs": [
        {
          "data": {
            "text/plain": [
              "tensor([  0,   1,   3,   4,   5,   7,   8,   9,  10,  11,  12,  13,  14,  16,\n",
              "         17,  19,  20,  21,  22,  23,  24,  25,  27,  28,  29,  30,  31,  32,\n",
              "         33,  34,  35,  36,  37,  38,  39,  40,  41,  42,  44,  45,  46,  47,\n",
              "         48,  49,  51,  52,  53,  54,  55,  56,  57,  58,  60,  61,  62,  63,\n",
              "         64,  65,  66,  67,  68,  70,  71,  72,  73,  74,  77,  78,  80,  81,\n",
              "         82,  83,  84,  85,  86,  87,  88,  89,  90,  91,  92,  93,  95,  96,\n",
              "         97,  98,  99, 100, 101, 102, 103, 104, 105, 106, 107, 109, 111, 112,\n",
              "        113, 114, 115, 116, 117, 118, 119, 120, 121, 122, 123, 124, 125, 126,\n",
              "        127, 128, 130, 131, 132, 133, 135, 136, 137, 138, 139, 140, 141, 142,\n",
              "        143, 144, 145, 146, 147, 148, 149, 150, 151, 153, 156, 157, 158, 159,\n",
              "        162, 163, 164, 165, 166, 167, 169, 170, 171, 172, 173, 174, 175, 178,\n",
              "        179, 180, 181, 183, 186, 187, 188, 190, 192, 193, 194, 195, 196, 197,\n",
              "        198, 199, 200, 201, 203, 204, 206, 207, 208, 209, 210, 211, 212, 213,\n",
              "        214, 215, 216, 217, 218, 219, 220, 221, 222, 223, 225, 226, 227, 228,\n",
              "        229, 230, 231, 232, 233, 234, 235, 236, 237, 238, 239, 242, 245, 246,\n",
              "        248, 249, 250, 251, 252, 254, 255, 256, 259, 260, 261, 263, 264, 265,\n",
              "        268, 269, 271, 272, 273, 274, 275, 276, 277, 278, 279, 280, 281, 282,\n",
              "        283, 284, 286, 287, 288, 289, 290, 291, 292, 293, 294, 295, 296, 297,\n",
              "        298, 299, 300, 301, 302, 303, 304, 305, 307, 308, 309, 310, 311, 312,\n",
              "        313, 315, 316, 317, 318, 319, 320, 321, 323, 324, 325, 326, 327, 328,\n",
              "        329, 330, 332, 333, 334, 335, 336, 337, 338, 339, 340, 341, 342, 343,\n",
              "        344, 345, 346, 349, 350, 351, 352, 353, 354, 355, 356, 357, 358, 359,\n",
              "        360, 361, 362, 363, 364, 365, 366, 369, 372, 374, 375, 377, 378, 381,\n",
              "        382, 383, 386, 388, 389, 390, 391, 392, 393, 394, 395, 396, 397, 398,\n",
              "        400, 401, 402, 403, 404, 405, 406, 407, 408, 411, 412, 414, 415, 416,\n",
              "        417, 418, 419, 420, 421, 422, 423, 424, 425, 426, 427, 428, 429, 430,\n",
              "        431, 432, 433, 434, 437, 438, 439, 441, 442, 443, 444, 445, 446, 447,\n",
              "        448, 450, 452, 453, 454, 455, 456, 457, 459, 460, 461, 462, 463, 464,\n",
              "        465, 466, 467, 468, 469, 470, 471, 472, 473, 474, 475, 477, 479, 481,\n",
              "        482, 483, 484, 485, 486, 488, 490, 491, 492, 493, 494, 495, 496, 497,\n",
              "        498, 499, 500, 501, 502, 503, 504, 505, 506, 507, 508, 509, 510, 511,\n",
              "        512, 513], device='cuda:0')"
            ]
          },
          "execution_count": 125,
          "metadata": {},
          "output_type": "execute_result"
        }
      ],
      "source": [
        "torch.unique(generated_encode)"
      ]
    },
    {
      "cell_type": "code",
      "execution_count": 126,
      "metadata": {},
      "outputs": [],
      "source": [
        "generated_encode = torch.where(generated_encode==512,torch.tensor(0),generated_encode)\n",
        "generated_encode = torch.where(generated_encode==513,torch.tensor(0),generated_encode)\n"
      ]
    },
    {
      "cell_type": "code",
      "execution_count": 127,
      "metadata": {},
      "outputs": [
        {
          "data": {
            "text/plain": [
              "tensor([  0,   1,   3,   4,   5,   7,   8,   9,  10,  11,  12,  13,  14,  16,\n",
              "         17,  19,  20,  21,  22,  23,  24,  25,  27,  28,  29,  30,  31,  32,\n",
              "         33,  34,  35,  36,  37,  38,  39,  40,  41,  42,  44,  45,  46,  47,\n",
              "         48,  49,  51,  52,  53,  54,  55,  56,  57,  58,  60,  61,  62,  63,\n",
              "         64,  65,  66,  67,  68,  70,  71,  72,  73,  74,  77,  78,  80,  81,\n",
              "         82,  83,  84,  85,  86,  87,  88,  89,  90,  91,  92,  93,  95,  96,\n",
              "         97,  98,  99, 100, 101, 102, 103, 104, 105, 106, 107, 109, 111, 112,\n",
              "        113, 114, 115, 116, 117, 118, 119, 120, 121, 122, 123, 124, 125, 126,\n",
              "        127, 128, 130, 131, 132, 133, 135, 136, 137, 138, 139, 140, 141, 142,\n",
              "        143, 144, 145, 146, 147, 148, 149, 150, 151, 153, 156, 157, 158, 159,\n",
              "        162, 163, 164, 165, 166, 167, 169, 170, 171, 172, 173, 174, 175, 178,\n",
              "        179, 180, 181, 183, 186, 187, 188, 190, 192, 193, 194, 195, 196, 197,\n",
              "        198, 199, 200, 201, 203, 204, 206, 207, 208, 209, 210, 211, 212, 213,\n",
              "        214, 215, 216, 217, 218, 219, 220, 221, 222, 223, 225, 226, 227, 228,\n",
              "        229, 230, 231, 232, 233, 234, 235, 236, 237, 238, 239, 242, 245, 246,\n",
              "        248, 249, 250, 251, 252, 254, 255, 256, 259, 260, 261, 263, 264, 265,\n",
              "        268, 269, 271, 272, 273, 274, 275, 276, 277, 278, 279, 280, 281, 282,\n",
              "        283, 284, 286, 287, 288, 289, 290, 291, 292, 293, 294, 295, 296, 297,\n",
              "        298, 299, 300, 301, 302, 303, 304, 305, 307, 308, 309, 310, 311, 312,\n",
              "        313, 315, 316, 317, 318, 319, 320, 321, 323, 324, 325, 326, 327, 328,\n",
              "        329, 330, 332, 333, 334, 335, 336, 337, 338, 339, 340, 341, 342, 343,\n",
              "        344, 345, 346, 349, 350, 351, 352, 353, 354, 355, 356, 357, 358, 359,\n",
              "        360, 361, 362, 363, 364, 365, 366, 369, 372, 374, 375, 377, 378, 381,\n",
              "        382, 383, 386, 388, 389, 390, 391, 392, 393, 394, 395, 396, 397, 398,\n",
              "        400, 401, 402, 403, 404, 405, 406, 407, 408, 411, 412, 414, 415, 416,\n",
              "        417, 418, 419, 420, 421, 422, 423, 424, 425, 426, 427, 428, 429, 430,\n",
              "        431, 432, 433, 434, 437, 438, 439, 441, 442, 443, 444, 445, 446, 447,\n",
              "        448, 450, 452, 453, 454, 455, 456, 457, 459, 460, 461, 462, 463, 464,\n",
              "        465, 466, 467, 468, 469, 470, 471, 472, 473, 474, 475, 477, 479, 481,\n",
              "        482, 483, 484, 485, 486, 488, 490, 491, 492, 493, 494, 495, 496, 497,\n",
              "        498, 499, 500, 501, 502, 503, 504, 505, 506, 507, 508, 509, 510, 511],\n",
              "       device='cuda:0')"
            ]
          },
          "execution_count": 127,
          "metadata": {},
          "output_type": "execute_result"
        }
      ],
      "source": [
        "torch.unique(generated_encode)"
      ]
    },
    {
      "cell_type": "code",
      "execution_count": 128,
      "metadata": {},
      "outputs": [
        {
          "data": {
            "text/plain": [
              "torch.Size([1024, 1])"
            ]
          },
          "execution_count": 128,
          "metadata": {},
          "output_type": "execute_result"
        }
      ],
      "source": [
        "generated_encode.T.shape"
      ]
    },
    {
      "cell_type": "code",
      "execution_count": 129,
      "metadata": {},
      "outputs": [],
      "source": [
        "generated_encode = generated_encode.T"
      ]
    },
    {
      "cell_type": "code",
      "execution_count": 130,
      "metadata": {},
      "outputs": [
        {
          "name": "stderr",
          "output_type": "stream",
          "text": [
            "Clipping input data to the valid range for imshow with RGB data ([0..1] for floats or [0..255] for integers).\n"
          ]
        },
        {
          "data": {
            "image/png": "[encoded data removed]",
            "text/plain": [
              "<Figure size 640x480 with 1 Axes>"
            ]
          },
          "metadata": {},
          "output_type": "display_data"
        }
      ],
      "source": [
        "encodings = torch.zeros(generated_encode.shape[0], num_embeddings, device=device)\n",
        "encodings.scatter_(1, generated_encode.T, 1)\n",
        "quantized = torch.matmul(encodings, model._vq_vae._embedding.weight).view(input_shape).permute(0, 3, 1, 2)\n",
        "\n",
        "x_recon = model._decoder(quantized)\n",
        "show(make_grid(denorm(x_recon.cpu().data,mean,std)))"
      ]
    },
    {
      "cell_type": "code",
      "execution_count": 99,
      "metadata": {},
      "outputs": [],
      "source": [
        "# m.generate([start],500)"
      ]
    },
    {
      "cell_type": "code",
      "execution_count": null,
      "metadata": {},
      "outputs": [],
      "source": [
        "# next character prediction. \n",
        "#  windowed prediction"
      ]
    }
  ],
  "metadata": {
    "accelerator": "GPU",
    "colab": {
      "gpuType": "T4",
      "provenance": []
    },
    "kaggle": {
      "accelerator": "nvidiaTeslaT4",
      "dataSources": [
        {
          "datasetId": 4891196,
          "sourceId": 8244595,
          "sourceType": "datasetVersion"
        }
      ],
      "dockerImageVersionId": 30699,
      "isGpuEnabled": true,
      "isInternetEnabled": true,
      "language": "python",
      "sourceType": "notebook"
    },
    "kernelspec": {
      "display_name": "Python 3",
      "name": "python3"
    },
    "language_info": {
      "codemirror_mode": {
        "name": "ipython",
        "version": 3
      },
      "file_extension": ".py",
      "mimetype": "text/x-python",
      "name": "python",
      "nbconvert_exporter": "python",
      "pygments_lexer": "ipython3",
      "version": "3.9.16"
    }
  },
  "nbformat": 4,
  "nbformat_minor": 0
}
